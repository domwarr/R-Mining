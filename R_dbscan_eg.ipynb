{
 "cells": [
  {
   "cell_type": "markdown",
   "metadata": {},
   "source": [
    "# Exercise - Density-based Spatial Clustering of Applications with Noise (DBSCAN) in R\n",
    "This notebook is designed to help get you familiar with using the DBSCAN algorithm in R through a simple exercise. \n",
    "\n",
    "In this notebook, we will load and explore 'seeds.txt' in R, which is a dataset containing measurements of geometrical properties of kernels belonging to three different varieties of wheat. \n",
    "\n",
    "The DBSCAN algorithm combines data points that are closely packed together into clusters based on the parameters **eps** and **minPts**. \n",
    "\n",
    "The **eps** parameter corresponds to the size of the neighborhood. \n",
    "\n",
    "The **minPts** parameter corresponds to the minimum number of points that must exist in this neighborhood to define it as a dense area. \n",
    "\n",
    "This exercise covers:\n",
    "\n",
    "1. Installing and loading the DBSCAN library and the data in R\n",
    "2. Creating a subset from the datatset\n",
    "3. Using the dbscan function to obtain clusters\n",
    "4. Converting the clusters to factors \n",
    "5. Attaching the clusters to the measurements\n",
    "6. Visualizing the results\n"
   ]
  },
  {
   "cell_type": "markdown",
   "metadata": {},
   "source": [
    "## Installing and loading the DBSCAN library and the data in R\n",
    "We begin by installing the dbscan package and loading it along with the dataset .\n",
    "\n"
   ]
  },
  {
   "cell_type": "code",
   "execution_count": null,
   "metadata": {
    "collapsed": false
   },
   "outputs": [
    {
     "data": {
      "text/plain": [
       "    area perimeter compactness length width asymmetry_coeff\n",
       "1   15.26     14.84      0.8710  5.763 3.312           2.221\n",
       "2   14.88     14.57      0.8811  5.554 3.333           1.018\n",
       "3   14.29     14.09      0.9050  5.291 3.337           2.699\n",
       "4   13.84     13.94      0.8955  5.324 3.379           2.259\n",
       "5   16.14     14.99      0.9034  5.658 3.562           1.355\n",
       "6   14.38     14.21      0.8951  5.386 3.312           2.462\n",
       "    groove_length type\n",
       "1         5.220    1\n",
       "2         4.956    1\n",
       "3         4.825    1\n",
       "4         4.805    1\n",
       "5         5.175    1\n",
       "6         4.956    1\n"
       ]
     },
     "execution_count": 1,
     "metadata": {},
     "output_type": "execute_result"
    }
   ],
   "source": [
    "# Installing the library 'dbscan'\n",
    "install.packages(\"dbscan\", dependencies = TRUE)\n",
    "library('dbscan')\n",
    "# Downloading the file in the Data Scientist Workbench\n",
    "download.file(\"https://raw.githubusercontent.com/domwarr/R-Mining/master/seeds.txt\",\"/resources/seeds.txt\")\n",
    "# Load data\n",
    "seeds <- read.csv(\"seeds.txt\", sep = \"\t\")\n",
    "head(seeds)"
   ]
  },
  {
   "cell_type": "markdown",
   "metadata": {},
   "source": [
    "## Creating a subset from the dataset\n"
   ]
  },
  {
   "cell_type": "code",
   "execution_count": null,
   "metadata": {
    "collapsed": true
   },
   "outputs": [
    {
     "data": {
      "text/plain": [
       "   width length\n",
       "1 3.312  5.763\n",
       "2 3.333  5.554\n",
       "3 3.337  5.291\n",
       "4 3.379  5.324\n",
       "5 3.562  5.658\n",
       "6 3.312  5.386\n"
      ]
     },
     "execution_count": 2,
     "metadata": {},
     "output_type": "execute_result"
    }
   ],
   "source": [
    "# Creating the subset: The subset contains the kernel width and the kernel length\n",
    "seeds.sub <- subset(seeds, select = c(width,length))\n",
    "head(seeds.sub)\n"
   ]
  },
  {
   "cell_type": "markdown",
   "metadata": {},
   "source": [
    "## Using the dbscan function to obtain clusters\n"
   ]
  },
  {
   "cell_type": "code",
   "execution_count": null,
   "metadata": {
    "collapsed": false
   },
   "outputs": [
    {
     "data": {
      "text/plain": [
       "DBSCAN clustering for 210 objects.\n",
       "Parameters: eps = 0.08, minPts = 4\n",
       "The clustering contains 4 cluster(s) and 40 noise points.\n",
       "\n",
       "  0   1   2   3   4\n", 
       " 40 128   8   4  30\n"
      ]
     },
     "execution_count": 3,
     "metadata": {},
     "output_type": "execute_result"
    }
   ],
   "source": [
    "# Use the dbscan function to obtain clusters and store them in clusters_assignments1 \n",
    "# For this exercise we will use eps = 0.8 and minPts = 4\n",
    "# Note: you can change the values to see the formation of different clusters\n",
    "clusters_assignments1 <- dbscan(seeds.sub, eps = .08, minPts = 4)\n",
    "clusters_assignments1 \n"
   ]
  },
  {
   "cell_type": "markdown",
   "metadata": {},
   "source": [
    "## Converting the clusters to factors\n"
   ]
  },
  {
   "cell_type": "code",
   "execution_count": null,
   "metadata": {
    "collapsed": false,
    "scrolled": true
   },
   "outputs": [
    {
     "data": {
      "text/plain": [
       ""
       ]
     },
     "execution_count": 4,
     "metadata": {},
     "output_type": "execute_result"
    }
   ],
   "source": [
    "# Clusters must be converted to factor before plotting in different colors\n",
    "clusters_assignments1$cluster <- as.factor(clusters_assignments1$cluster)\n"
   ]
  },
  {
   "cell_type": "markdown",
   "metadata": {},
   "source": [
    "## Attaching the clusters to the measurements\n"
   ]
  },
  {
   "cell_type": "code",
   "execution_count": null,
   "metadata": {
    "collapsed": true
   },
   "outputs": [
   {
     "data": {
      "text/plain": [
       "  width length cluster_no\n",
       "1 3.312  5.763          1\n",
       "2 3.333  5.554          1\n",
       "3 3.337  5.291          2\n",
       "4 3.379  5.324          2\n",
       "5 3.562  5.658          0\n",
       "6 3.312  5.386          2\n"
       ]
     },
    "execution_count": 5,
     "metadata": {},
     "output_type": "execute_result"
    }
   ],
   "source": [
    "# Combine the cluster assignments with the subset\n",
    "seeds.sub$cluster_no <- clusters_assignments1$cluster\n",
    "head(seeds.sub)\n"
   ]
  },
  {
   "cell_type": "markdown",
   "metadata": {},
   "source": [
    "## Visualizing the results\n"
   ]
  },
  {
   "cell_type": "code",
   "execution_count": null,
   "metadata": {
    "collapsed": false,
    "scrolled": true
   },
   "outputs": [],
   "source": [
    "# Visualize results (noise is shown in black) using a simple plot\n",
    "plot(seeds.sub$width, seeds.sub$length, col = clusters_assignments1$cluster, pch = 16, main = \"Scatterplot Displaying Clusters\", xlab = \"Kernel Width\", ylab = \"Kernel Length\")\n",
    "\n",
    "legend(x = 2.6, y = 6.75, legend = levels(clusters_assignments1$cluster), col = c(1:5), pch = 16, title = \"Clusters\")\n"
   ]
  },
  {
   "cell_type": "markdown",
   "metadata": {},
   "source": [
    "### Thank you for completing this exercise!\n",
    "\n",
    "Notebook created by: Dominique Warren"
   ]
  },
  {
   "cell_type": "markdown",
   "metadata": {},
   "source": [
    "### References:\n",
    "\n",
    "https://en.wikipedia.org/wiki/DBSCAN <br>\n",
    "https://cran.r-project.org/web/packages/dbscan/dbscan.pdf <br>\n",
    "https://www.aaai.org/Papers/KDD/1996/KDD96-037.pdf <br>\n",
    "http://www.cse.buffalo.edu/~jing/cse601/fa12/materials/clustering_density.pdf <br>"
   ]
  },
  {
   "cell_type": "markdown",
   "metadata": {},
   "source": [
    "<hr>\n",
    "Copyright &copy; 2016 [Big Data University](https://bigdatauniversity.com/?utm_source=bducopyrightlink&utm_medium=dswb&utm_campaign=bdu). This notebook and its source code are released under the terms of the [MIT License](https://bigdatauniversity.com/mit-license/)."
   ]
  }
 ],
 "metadata": {
  "kernelspec": {
   "display_name": "R",
   "language": "",
   "name": "ir"
  },
  "language_info": {
   "codemirror_mode": "r",
   "file_extension": ".r",
   "mimetype": "text/x-r-source",
   "name": "R",
   "pygments_lexer": "r"
  },
  "widgets": {
   "state": {},
   "version": "1.1.2"
  }
 },
 "nbformat": 4,
 "nbformat_minor": 0
}
