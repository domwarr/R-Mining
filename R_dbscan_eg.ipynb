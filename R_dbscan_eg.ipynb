{
 "cells": [
  {
   "cell_type": "markdown",
   "metadata": {},
   "source": [
    "# Exercise - Density-based Spatial Clustering of Applications with Noise (DBSCAN) in R\n",
    "This notebook is designed to help get you familiar with using the DBSCAN algorithm in R through a simple exercise.  \n",
    "\n",
    "In this notebook, we will load and explore 'seeds.txt' in R, which is a dataset containing measurements of geometrical properties of kernels belonging to three different varieties of wheat. ",
    "Specifically, this exercise covers:\n",
    "\n",
    "1. Installing and loading the DBSCAN library and the data in R\n",
    "2. Creating a subset from the datatset\n",
    "3. Using the dbscan function to obtain clusters\n",
    "4. Convert the clusters to factors \n",
    "5. Attaching the clusters to the measurements\n",
    "6. Visualizing the results\n"
   ]
  },
  {
   "cell_type": "markdown",
   "metadata": {},
   "source": [
    "## Installing and loading the DBSCAN library and the data in R\n",
    "We begin by installing the dbscan package and loading it along with the dataset .\n",
    "\n"
   ]
  },
  {
   "cell_type": "code",
   "execution_count": null,
   "metadata": {
    "collapsed": false
   },
   "outputs": [],
   "source": [
    "# installing the library 'dbscan'\n",
    "install.packages(\"dbscan\", dependencies = TRUE)\n",
    "library('dbscan')\n",
    "# Downloading the file in the Data Scientist Workbench\n",
    "download.file(\"https://ibm.box.com/shared\",\"/resources/seeds.csv\")\n",
    "head(seeds)"
   ]
  },
  {
   "cell_type": "markdown",
   "metadata": {},
   "source": [
    "## Creating a subset from the dataset\n"
   ]
  },
  {
   "cell_type": "code",
   "execution_count": null,
   "metadata": {
    "collapsed": true
   },
   "outputs": [],
   "source": [
    ""
   ]
  },
  {
   "cell_type": "markdown",
   "metadata": {},
   "source": [
    "## Using the dbscan function to obtain clusters\n"
   ]
  },
  {
   "cell_type": "code",
   "execution_count": null,
   "metadata": {
    "collapsed": false
   },
   "outputs": [],
   "source": [
    ""
   ]
  },
  {
   "cell_type": "markdown",
   "metadata": {},
   "source": [
    "## Attaching the clusters to the measurements\n"
   ]
  },
  {
   "cell_type": "code",
   "execution_count": null,
   "metadata": {
    "collapsed": false,
    "scrolled": true
   },
   "outputs": [],
   "source": [
   ]
  },
  {
   "cell_type": "markdown",
   "metadata": {},
   "source": [
    "## Visualizing the results\n"
   ]
  },
  {
   "cell_type": "code",
   "execution_count": null,
   "metadata": {
    "collapsed": false,
    "scrolled": true
   },
   "outputs": [],
   "source": [
   ]
  }
