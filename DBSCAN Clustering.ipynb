{
 "cells": [
  {
   "cell_type": "markdown",
   "metadata": {},
   "source": [
    "<a href=\"https://www.bigdatauniversity.com\"><img src = \"https://ibm.box.com/shared/static/wbqvbi6o6ip0vz55ua5gp17g4f1k7ve9.png\" width = 300, align = \"center\"></a>\n",
    "\n",
    "<h1 align=center><font size = 5> DBSCAN Clustering in Python</font></h1>"
   ]
  },
  {
   "cell_type": "markdown",
   "metadata": {},
   "source": [
    "## Introduction\n",
    "\n",
    "The density-based approach to clustering focus on identifying clusters of high density separated by areas of low density. It is particularly good for population-related geographical data because of its distribution nature. For this type of clustering, DBSCAN is one of the most used algorithms, and because of that, will be the focus of this lesson.\n",
    "\n",
    "Some real-world applications of DBSCAN clustering:\n",
    "- Weather data clustering\n",
    "- Determining the best locations for service centres\n",
    "- Crime data clustering\n",
    "\n",
    "-----------------"
   ]
  },
  {
   "cell_type": "markdown",
   "metadata": {},
   "source": [
    "## Table of contents \n",
    "\n",
    "<div class=\"alert alert-block alert-info\" style=\"margin-top: 20px\">\n",
    "<font size = 3><strong>Density-based Clustering:</strong></font><br>\n",
    "- <p><a href=\"#ref1\">The problem we want to solve</a></p>\n",
    "- <p><a href=\"#ref2\">Framing the real problem to the application of DBSCAN</a></p>\n",
    "- <p><a href=\"#ref3\">The dataset</a></p>\n",
    "- <p><a href=\"#ref4\">A quick implementation</a></p>\n",
    "<p></p>\n",
    "</div>\n",
    "<br>\n",
    "\n",
    "\n",
    "----------------"
   ]
  },
  {
   "cell_type": "markdown",
   "metadata": {},
   "source": [
    "<a id=\"ref1\"></a>\n",
    "# The problem to solve\n",
    "\n",
    "The year is 2036. You live in Canada and it is the end of the spring. The proportion of seniors aged 65 and over of the <a href = http://www.statcan.gc.ca/pub/91-520-x/2010001/aftertoc-aprestdm1-eng.htm>population is 25% and increasing</a>. While you are having your breakfast, an interview in the news channel draws your attention. The government of Canada is concerned with the upcoming heat waves in the summer, due to the particularly blistering hot temperatures in the last years. The Minister of Environment and Climate Change mentions during an interview that she is <font color = \"green\"> willing to create new weather stations. These stations will be packed with brand new equipment and will be responsible to collect information from collections of existing weather stations nearby, to better monitor the temperatures and prevent heat injuries in the increasingly older population. </font> As a person who cares about your future and your family's, you decide to help. You call a friend that works in the Institute of Weather Injuries  Prevention and he says that the government called two days ago asking him to **come up with the locations of the new weather stations. How many should be built, and where should each one be located?** In order to answer that question, your friend already assigned a research team to gather information on the existing weather stations. You will be responsible to process data that this research will generate. **Since you want to prepare the model before the data comes in, you will use a dataset about weather from 2015 to prepare all the code.**\n",
    "\n",
    "\n",
    "------------"
   ]
  },
  {
   "cell_type": "markdown",
   "metadata": {},
   "source": [
    "<a id=\"ref2\"></a>\n",
    "# Framing the real problem\n",
    "\n",
    "First, let's give names to each type of station:\n",
    "- The *old station* will be called **\"normal station\" or \"old station\"**.\n",
    "- The *new station* will be called **\"main station\" or \"new station\"**.\n",
    "\n",
    "As mentioned before, DBSCAN focus on identifying clusters of high density separated by areas of low density. Since different types of distributions and densities are possible, each DBSCAN application **must be correctly tuned.**  \n",
    "  \n",
    "DBSCAN is an algorithm that must be tuned for each particular dataset, using the **eps** and **minPts** parameters. The \"eps\" corresponds to the **size of the neighborhood** and \"minPts\" to the **minimum number that must exist in this neighborhood to define it as a dense area**.  \n",
    "  \n",
    "To explain the meaning of each one of these parameters, we can use our example. We have our new weather stations that collect information of <font color = \"green\">collections of old weather stations</font>. In order to collect this type of information, a communication must be established between the weather stations. But there are two main restrictions:\n",
    " - There is a <font color = \"green\">maximum distance between two weather stations</font>  determined by a special cable with a determined maximum length (We have to use *special cables* to transmit data faster). However, we can connect stations that are further than this maximum distance from the main stations by connecting to weather stations that are within the reach of the main stations, with unlimited number of connections. \n",
    " - Just justify the connection of an old weather station to the main station (through direct or indirect connections), it has to have a <font color = \"green\">minimum number of \"reachable\" stations using the *special cable*</font> (Perhaps because the price to setup the device for streaming is high).\n",
    "   \n",
    "In the analogy above, the <font color = \"green\">maximum distance between two weather stations</font> corresponds to the **eps** and the <font color = \"green\">minimum number of \"reachable\" stations using the *special cable*</font> to the **minPts**.\n",
    "\n",
    "From the problem information we had to determine <font color = \"green\">the number of main weather stations </font> and <font color = \"green\">their locations</font>, which are the **the number of clusters** and **the cluster centroids**.\n",
    "\n",
    " \n",
    "------------------------"
   ]
  },
  {
   "cell_type": "markdown",
   "metadata": {},
   "source": [
    "<a id=\"ref3\"></a>\n",
    "<a id=\"ref20\"></a>\n",
    "\n",
    "# The dataset\n",
    "As we mentioned before, the dataset used is from 2015. It contains information about a set of weather stations, with their respective names and geographical coordinates.\n",
    "\n",
    "Now let's start playing with the data. We will be working according to the following workflow: </font>\n",
    "1. Load\n",
    "- Overview\n",
    "- Clean"
   ]
  },
  {
   "cell_type": "markdown",
   "metadata": {},
   "source": [
    "<div class=\"alert alert-success alertsuccess\" style=\"margin-top: 20px\">\n",
    "<font size = 3><strong>Expert tip:</strong></font>\n",
    "<br>\n",
    "<br>\n",
    "We will go through these steps very quickly. If you want a better explanation of the process of managing datasets, you can check the <u>Introduction to R</u> course.<p></p>\n",
    "\n",
    "</div>"
   ]
  },
  {
   "cell_type": "markdown",
   "metadata": {},
   "source": [
    "### 1. Loading the data\n",
    "Since the dataset was uploaded to a Box folder, we can use the ***download.file*** command to download the dataset, and load the data using the ***read.csv*** command."
   ]
  },
  {
   "cell_type": "code",
   "execution_count": 361,
   "metadata": {
    "collapsed": false
   },
   "outputs": [],
   "source": [
    "#Downloading the file in the Data Scientist Workbench\n",
    "download.file(\"https://ibm.box.com/shared/static/th5dsj5txtw052dt2k9i5hekkjhydda2.csv\",\"/resources/WeatherStations.csv\")"
   ]
  },
  {
   "cell_type": "code",
   "execution_count": 104,
   "metadata": {
    "collapsed": false,
    "scrolled": false
   },
   "outputs": [],
   "source": [
    "#Reading the csv file\n",
    "WeatherStations <- read.csv(\"/resources/WeatherStations.csv\", sep =',')"
   ]
  },
  {
   "cell_type": "markdown",
   "metadata": {},
   "source": [
    "### 2. Overview of the data\n",
    "In this section, we will take a quick look in the data before processing it."
   ]
  },
  {
   "cell_type": "code",
   "execution_count": 105,
   "metadata": {
    "collapsed": false,
    "scrolled": true
   },
   "outputs": [
    {
     "data": {
      "text/plain": [
       "                Stn_Name    Lat     Long Prov  Tm DwTm   D   Tx DwTx   Tn DwTn\n",
       "1              CHEMAINUS 48.935 -123.742   BC 8.2    0  NA 13.5    0  1.0    0\n",
       "2 COWICHAN LAKE FORESTRY 48.824 -124.133   BC 7.0    0 3.0 15.0    0 -3.0    0\n",
       "3          LAKE COWICHAN 48.829 -124.052   BC 6.8   13 2.8 16.0    9 -2.5    9\n",
       "4       DISCOVERY ISLAND 48.425 -123.226   BC  NA   NA  NA 12.5    0   NA   NA\n",
       "5    DUNCAN KELVIN CREEK 48.735 -123.728   BC 7.7    2 3.4 14.5    2 -1.0    2\n",
       "6      ESQUIMALT HARBOUR 48.432 -123.439   BC 8.8    0  NA 13.1    0  1.9    0\n",
       "   S DwS S.N     P DwP P.N S_G Pd BS DwBS BS.   HDD CDD  Stn_No\n",
       "1  0   0  NA 178.8   0  NA   0 12 NA   NA  NA 273.3   0 1011500\n",
       "2  0   0   0 258.6   0 104   0 12 NA   NA  NA 307.0   0 1012040\n",
       "3  0   9  NA 264.6   9  NA  NA 11 NA   NA  NA 168.1   0 1012055\n",
       "4 NA  NA  NA    NA  NA  NA  NA NA NA   NA  NA    NA  NA 1012475\n",
       "5  0   2  NA 168.4   2  NA  NA 11 NA   NA  NA 267.7   0 1012573\n",
       "6 NA  NA  NA  81.0   8  NA  NA 12 NA   NA  NA 258.6   0 1012710"
      ]
     },
     "execution_count": 105,
     "metadata": {},
     "output_type": "execute_result"
    }
   ],
   "source": [
    "#How the data looks like?\n",
    "head(WeatherStations)"
   ]
  },
  {
   "cell_type": "code",
   "execution_count": 106,
   "metadata": {
    "collapsed": false
   },
   "outputs": [
    {
     "name": "stdout",
     "output_type": "stream",
     "text": [
      "'data.frame':\t1341 obs. of  25 variables:\n",
      " $ Stn_Name: Factor w/ 1318 levels \"100 MILE HOUSE 6NE\",..: 203 255 608 298 307 347 413 680 717 796 ...\n",
      " $ Lat     : num  48.9 48.8 48.8 48.4 48.7 ...\n",
      " $ Long    : num  -124 -124 -124 -123 -124 ...\n",
      " $ Prov    : Factor w/ 13 levels \"AB\",\"BC\",\"MB\",..: 2 2 2 2 2 2 2 2 2 2 ...\n",
      " $ Tm      : num  8.2 7 6.8 NA 7.7 8.8 8.9 7.2 NA NA ...\n",
      " $ DwTm    : int  0 0 13 NA 2 0 7 1 NA NA ...\n",
      " $ D       : num  NA 3 2.8 NA 3.4 NA NA NA NA NA ...\n",
      " $ Tx      : num  13.5 15 16 12.5 14.5 13.1 13.5 12.7 NA NA ...\n",
      " $ DwTx    : int  0 0 9 0 2 0 7 1 NA NA ...\n",
      " $ Tn      : num  1 -3 -2.5 NA -1 1.9 2 2.2 NA NA ...\n",
      " $ DwTn    : int  0 0 9 NA 2 0 7 0 NA NA ...\n",
      " $ S       : num  0 0 0 NA 0 NA 0 NA 0 0 ...\n",
      " $ DwS     : int  0 0 9 NA 2 NA 7 NA 0 0 ...\n",
      " $ S.N     : int  NA 0 NA NA NA NA NA NA 0 0 ...\n",
      " $ P       : num  179 259 265 NA 168 ...\n",
      " $ DwP     : int  0 0 9 NA 2 8 7 10 0 0 ...\n",
      " $ P.N     : int  NA 104 NA NA NA NA NA NA 95 114 ...\n",
      " $ S_G     : int  0 0 NA NA NA NA 0 NA 0 0 ...\n",
      " $ Pd      : int  12 12 11 NA 11 12 10 12 16 13 ...\n",
      " $ BS      : logi  NA NA NA NA NA NA ...\n",
      " $ DwBS    : logi  NA NA NA NA NA NA ...\n",
      " $ BS.     : logi  NA NA NA NA NA NA ...\n",
      " $ HDD     : num  273 307 168 NA 268 ...\n",
      " $ CDD     : int  0 0 0 NA 0 0 0 0 NA NA ...\n",
      " $ Stn_No  : Factor w/ 1341 levels \"1011500\",\"1012040\",..: 1 2 3 4 5 6 7 8 9 10 ...\n"
     ]
    }
   ],
   "source": [
    "#Let's check general information  about the data!\n",
    "str(WeatherStations)"
   ]
  },
  {
   "cell_type": "markdown",
   "metadata": {},
   "source": [
    "If you never worked with this dataset before, it might look very confusing! All the names are abbreviated and there is no way to know what each column means. To solve this problem, **we can simply look in the information given about the dataset.**\n",
    "\n",
    "In this notebook, we will be using only the columns with names listed in <font color = \"green\">green</font>."
   ]
  },
  {
   "cell_type": "markdown",
   "metadata": {},
   "source": [
    "<h3 align = \"center\">\n",
    "About the dataset\n",
    "</h3>\n",
    "<h4 align = \"center\">\n",
    "Environment Canada    \n",
    "Monthly Values for July - 2015\t\n",
    "</h4>\n",
    "<html>\n",
    "<head>\n",
    "<style>\n",
    "table {\n",
    "    font-family: arial, sans-serif;\n",
    "    border-collapse: collapse;\n",
    "    width: 100%;\n",
    "}\n",
    "\n",
    "td, th {\n",
    "    border: 1px solid #dddddd;\n",
    "    text-align: left;\n",
    "    padding: 8px;\n",
    "}\n",
    "\n",
    "tr:nth-child(even) {\n",
    "    background-color: #dddddd;\n",
    "}\n",
    "</style>\n",
    "</head>\n",
    "<body>\n",
    "\n",
    "<table>\n",
    "  <tr>\n",
    "    <th>Name in the table</th>\n",
    "    <th>Meaning</th>\n",
    "  </tr>\n",
    "  <tr>\n",
    "    <td><font color = \"green\"><strong>Stn_Name</font></td>\n",
    "    <td><font color = \"green\"><strong>Station Name</font</td>\n",
    "  </tr>\n",
    "  <tr>\n",
    "    <td><font color = \"green\"><strong>Lat</font></td>\n",
    "    <td><font color = \"green\"><strong>Latitude (North+, degrees)</font></td>\n",
    "  </tr>\n",
    "  <tr>\n",
    "    <td><font color = \"green\"><strong>Long</font></td>\n",
    "    <td><font color = \"green\"><strong>Longitude (West - , degrees)</font></td>\n",
    "  </tr>\n",
    "  <tr>\n",
    "    <td>Prov</td>\n",
    "    <td>Province</td>\n",
    "  </tr>\n",
    "  <tr>\n",
    "    <td>Tm</td>\n",
    "    <td>Mean Temperature (Â°C)</td>\n",
    "  </tr>\n",
    "  <tr>\n",
    "    <td>DwTm</td>\n",
    "    <td>Days without Valid Mean Temperature</td>\n",
    "  </tr>\n",
    "  <tr>\n",
    "    <td>D</td>\n",
    "    <td>Mean Temperature difference from Normal (1981-2010) (Â°C)</td>\n",
    "  </tr>\n",
    "  <tr>\n",
    "    <td><font color = \"green\"><strong>Tx</font></td>\n",
    "    <td><font color = \"green\"><strong>Highest Monthly Maximum Temperature (Â°C)</font></td>\n",
    "  </tr>\n",
    "  <tr>\n",
    "    <td>DwTx</td>\n",
    "    <td>Days without Valid Maximum Temperature</td>\n",
    "  </tr>\n",
    "  <tr>\n",
    "    <td><font color = \"green\"><strong>Tn</font></td>\n",
    "    <td><font color = \"green\"><strong>Lowest Monthly Minimum Temperature (Â°C)</font></td>\n",
    "  </tr>\n",
    "  <tr>\n",
    "    <td>DwTn</td>\n",
    "    <td>Days without Valid Minimum Temperature</td>\n",
    "  </tr>\n",
    "  <tr>\n",
    "    <td>S</td>\n",
    "    <td>Snowfall (cm)</td>\n",
    "  </tr>\n",
    "  <tr>\n",
    "    <td>DwS</td>\n",
    "    <td>Days without Valid Snowfall</td>\n",
    "  </tr>\n",
    "  <tr>\n",
    "    <td>S%N</td>\n",
    "    <td>Percent of Normal (1981-2010) Snowfall</td>\n",
    "  </tr>\n",
    "  <tr>\n",
    "    <td>P</td>\n",
    "    <td>Total Precipitation (mm)</td>\n",
    "  </tr>\n",
    "  <tr>\n",
    "    <td>DwP</td>\n",
    "    <td>Days without Valid Precipitation</td>\n",
    "  </tr>\n",
    "  <tr>\n",
    "    <td>P%N</td>\n",
    "    <td>Percent of Normal (1981-2010) Precipitation</td>\n",
    "  </tr>\n",
    "  <tr>\n",
    "    <td>S_G</td>\n",
    "    <td>Snow on the ground at the end of the month (cm)</td>\n",
    "  </tr>\n",
    "  <tr>\n",
    "    <td>Pd</td>\n",
    "    <td>Number of days with Precipitation 1.0 mm or more</td>\n",
    "  </tr>\n",
    "  <tr>\n",
    "    <td>BS</td>\n",
    "    <td>Bright Sunshine (hours)</td>\n",
    "  </tr>\n",
    "  <tr>\n",
    "    <td>DwBS</td>\n",
    "    <td>Days without Valid Bright Sunshine</td>\n",
    "  </tr>\n",
    "  <tr>\n",
    "    <td>BS%</td>\n",
    "    <td>Percent of Normal (1981-2010) Bright Sunshine</td>\n",
    "  </tr>\n",
    "  <tr>\n",
    "    <td>HDD</td>\n",
    "    <td>Degree Days below 18 Â°C</td>\n",
    "  </tr>\n",
    "  <tr>\n",
    "    <td>CDD</td>\n",
    "    <td>Degree Days above 18 Â°C</td>\n",
    "  </tr>\n",
    "  <tr>\n",
    "    <td>Stn_No</td>\n",
    "    <td>Climate station identifier (first 3 digits indicate   drainage basin, last 4 characters are for sorting alphabetically).</td>\n",
    "  </tr>\n",
    "  <tr>\n",
    "    <td>NA</td>\n",
    "    <td>Not Available</td>\n",
    "  </tr>\n",
    "\n",
    "\n",
    "</table>\n",
    "\n",
    "</body>\n",
    "</html>\n",
    "\n"
   ]
  },
  {
   "cell_type": "markdown",
   "metadata": {},
   "source": [
    "### 3. Cleaning the data\n",
    "Since we want to simplify the work and come up with a mock-up of our final model, we will work only in the location and temperature of the stations."
   ]
  },
  {
   "cell_type": "code",
   "execution_count": 107,
   "metadata": {
    "collapsed": false
   },
   "outputs": [
    {
     "data": {
      "text/plain": [
       "                Stn_Name    Lat     Long   Tx   Tn\n",
       "1              CHEMAINUS 48.935 -123.742 13.5  1.0\n",
       "2 COWICHAN LAKE FORESTRY 48.824 -124.133 15.0 -3.0\n",
       "3          LAKE COWICHAN 48.829 -124.052 16.0 -2.5\n",
       "4       DISCOVERY ISLAND 48.425 -123.226 12.5   NA\n",
       "5    DUNCAN KELVIN CREEK 48.735 -123.728 14.5 -1.0\n",
       "6      ESQUIMALT HARBOUR 48.432 -123.439 13.1  1.9"
      ]
     },
     "execution_count": 107,
     "metadata": {},
     "output_type": "execute_result"
    }
   ],
   "source": [
    "#Creating the main subset: It contains the Station Name, latitude, longitude, highest monthly and lowest monthly temperature\n",
    "WeatherStations.submain <- subset(WeatherStations, select = c(Stn_Name,Lat,Long,Tx,Tn))\n",
    "head(WeatherStations.submain)"
   ]
  },
  {
   "cell_type": "code",
   "execution_count": 108,
   "metadata": {
    "collapsed": false
   },
   "outputs": [
    {
     "data": {
      "text/plain": [
       "                Stn_Name    Lat     Long Tmax Tmin\n",
       "1              CHEMAINUS 48.935 -123.742 13.5  1.0\n",
       "2 COWICHAN LAKE FORESTRY 48.824 -124.133 15.0 -3.0\n",
       "3          LAKE COWICHAN 48.829 -124.052 16.0 -2.5\n",
       "4       DISCOVERY ISLAND 48.425 -123.226 12.5   NA\n",
       "5    DUNCAN KELVIN CREEK 48.735 -123.728 14.5 -1.0\n",
       "6      ESQUIMALT HARBOUR 48.432 -123.439 13.1  1.9"
      ]
     },
     "execution_count": 108,
     "metadata": {},
     "output_type": "execute_result"
    }
   ],
   "source": [
    "#Changing column names to cleaner names\n",
    "colnames(WeatherStations.submain) <- c(\"Stn_Name\",\"Lat\", \"Long\", \"Tmax\", \"Tmin\")\n",
    "head(WeatherStations.submain)"
   ]
  },
  {
   "cell_type": "code",
   "execution_count": 109,
   "metadata": {
    "collapsed": false
   },
   "outputs": [
    {
     "data": {
      "text/plain": [
       "                Stn_Name    Lat     Long Tmax Tmin\n",
       "1              CHEMAINUS 48.935 -123.742 13.5  1.0\n",
       "2 COWICHAN LAKE FORESTRY 48.824 -124.133 15.0 -3.0\n",
       "3          LAKE COWICHAN 48.829 -124.052 16.0 -2.5\n",
       "5    DUNCAN KELVIN CREEK 48.735 -123.728 14.5 -1.0\n",
       "6      ESQUIMALT HARBOUR 48.432 -123.439 13.1  1.9\n",
       "7          GALIANO NORTH 48.985 -123.573 13.5  2.0"
      ]
     },
     "execution_count": 109,
     "metadata": {},
     "output_type": "execute_result"
    }
   ],
   "source": [
    "#Removing all the rows that are incompleted (Have at least a NA)\n",
    "WeatherStations.submain <- WeatherStations.submain[complete.cases(WeatherStations.submain),]\n",
    "head(WeatherStations.submain)"
   ]
  },
  {
   "cell_type": "markdown",
   "metadata": {},
   "source": [
    "-----------------"
   ]
  },
  {
   "cell_type": "markdown",
   "metadata": {},
   "source": [
    "# A general visualization of the data\n",
    "Dealing with big amounts of data can be really overwhelming. A first visualization will be used in order to have a better idea on what kind of data we will be clustering later. For this, <a href=\"https://rstudio.github.io/leaflet/\">Leaflet for R</a> will be used for plotting on top of a copy of a world map:\n",
    "\n",
    "1. Installing the library\n",
    "- Setting up the visualization\n",
    "- Plotting"
   ]
  },
  {
   "cell_type": "markdown",
   "metadata": {},
   "source": [
    "<div class=\"alert alert-success alertsuccess\" style=\"margin-top: 20px\">\n",
    "<font size = 3><strong>Expert tip:</strong></font>\n",
    "<br>\n",
    "<br>\n",
    "We will go through these steps very quickly. If you want a better explanation of the process of map visualization, you can check the <u>Map Visualization in R</u> course.<p></p>\n",
    "\n",
    "</div>"
   ]
  },
  {
   "cell_type": "markdown",
   "metadata": {},
   "source": [
    "### 1. Installing the library"
   ]
  },
  {
   "cell_type": "code",
   "execution_count": 110,
   "metadata": {
    "collapsed": false
   },
   "outputs": [
    {
     "name": "stderr",
     "output_type": "stream",
     "text": [
      "Installing package into ‘/home/notebook/spark-1.6.0-bin-hadoop2.6/R/lib’\n",
      "(as ‘lib’ is unspecified)\n"
     ]
    }
   ],
   "source": [
    "#Installing leaflet maps\n",
    "install.packages(\"leaflet\")\n",
    "library(leaflet)\n",
    "#Packages used to display the maps in this notebook\n",
    "library(htmlwidgets)\n",
    "library(IRdisplay)"
   ]
  },
  {
   "cell_type": "markdown",
   "metadata": {},
   "source": [
    "### 2. Setting up the visualization\n",
    "We will set the visualization by assigning the ***setView*** attribute to the map. We just have to come up with a *center point* of our visualization (lat,long) and determine a *zoom* rate."
   ]
  },
  {
   "cell_type": "code",
   "execution_count": 111,
   "metadata": {
    "collapsed": false
   },
   "outputs": [],
   "source": [
    "#Establishing the limits of our default visualization\n",
    "lower_lon = -140\n",
    "upper_lon = -50\n",
    "lower_lat = 40\n",
    "upper_lat = 65\n",
    "#Establishing the center of our default visualization\n",
    "center_lon = (lower_lon + upper_lon)/2\n",
    "center_lat = (lower_lat + upper_lat)/2\n",
    "#Setting the default zoom of our default visualization\n",
    "zoom = 4"
   ]
  },
  {
   "cell_type": "markdown",
   "metadata": {},
   "source": [
    "### 3. Plotting"
   ]
  },
  {
   "cell_type": "code",
   "execution_count": 112,
   "metadata": {
    "collapsed": false
   },
   "outputs": [
    {
     "data": {
      "text/html": [
       "<iframe src='  weather_map.html  ' width='100%' height='400' />"
      ]
     },
     "metadata": {},
     "output_type": "display_data"
    }
   ],
   "source": [
    "subset <- WeatherStations.submain #'subset' stores the subset we will be using for the leaflet map\n",
    "weather_map <- leaflet(subset) %>% #creating a leaflet map\n",
    "                setView(center_lon,center_lat, zoom)%>% #setting the default view for our map\n",
    "                addProviderTiles(\"OpenStreetMap.BlackAndWhite\")%>% #setting the map that we want to use as background\n",
    "                addCircleMarkers(lng = subset$Long, #the longitude is the longitude of our subset!\n",
    "                                 lat = subset$Lat, #the latitude is the latitude of our subset!\n",
    "                                 popup = subset$Stn_Name, #pop-ups will show the name of station if you click in a data point\n",
    "                                 fillColor = \"Black\", #colors of the markers will be black\n",
    "                                 fillOpacity = 1, #the shapes will have maximum opacity\n",
    "                                 radius = 4, #radius determine the size of each shape\n",
    "                                 stroke = F) #no stroke will be drawn in each data point\n",
    "\n",
    "saveWidget(weather_map, file=\"weather_map.html\", selfcontained = F) #saving the leaflet map in html\n",
    "display_html(paste(\"<iframe src=' \", 'weather_map.html', \" ' width='100%' height='400'\",\"/>\")) #displaying the map !"
   ]
  },
  {
   "cell_type": "markdown",
   "metadata": {},
   "source": [
    "----------------------"
   ]
  },
  {
   "cell_type": "markdown",
   "metadata": {},
   "source": [
    "<a id=\"ref4\"></a>\n",
    "# A quick implementation\n",
    "Instead of going through all the particularities and math of this algorithm, why don't we jump directly to implementing as fast as we can? Let's start with the process we will be using for it:\n",
    "\n",
    "1. Installing the library\n",
    "- Clustering by location\n",
    "    1. Preparing the data\n",
    "    - Running the algorithm\n",
    "    - Attaching the cluster information to the data\n",
    "    - Visualizing the results\n",
    "- Clustering by location and temperature\n",
    "    1. Preparing the data\n",
    "    - Running the algorithm\n",
    "    - Attaching the cluster information to the data\n",
    "    - Visualizing the results"
   ]
  },
  {
   "cell_type": "markdown",
   "metadata": {},
   "source": [
    "### 1. Installing the library"
   ]
  },
  {
   "cell_type": "code",
   "execution_count": 113,
   "metadata": {
    "collapsed": false
   },
   "outputs": [
    {
     "name": "stderr",
     "output_type": "stream",
     "text": [
      "Installing package into ‘/home/notebook/spark-1.6.0-bin-hadoop2.6/R/lib’\n",
      "(as ‘lib’ is unspecified)\n"
     ]
    }
   ],
   "source": [
    "#installing the library 'dbscan'\n",
    "install.packages(\"dbscan\", dependencies = TRUE)\n",
    "library('dbscan')"
   ]
  },
  {
   "cell_type": "markdown",
   "metadata": {},
   "source": [
    "### 2. Clustering by location\n",
    "At first, it was decided that only the location would matter, since we only have constraints in terms of length of the cable and the way we can make the connections to reach further distances"
   ]
  },
  {
   "cell_type": "markdown",
   "metadata": {},
   "source": [
    "#####  Preparing the data (Subsetting and Normalizing)"
   ]
  },
  {
   "cell_type": "code",
   "execution_count": 114,
   "metadata": {
    "collapsed": false
   },
   "outputs": [
    {
     "data": {
      "text/plain": [
       "         Lat      Long\n",
       "1 -0.3834153 -1.142244\n",
       "2 -0.4011865 -1.158987\n",
       "3 -0.4003860 -1.155518\n",
       "5 -0.4154355 -1.141644\n",
       "6 -0.4639460 -1.129269\n",
       "7 -0.3754103 -1.135007"
      ]
     },
     "execution_count": 114,
     "metadata": {},
     "output_type": "execute_result"
    }
   ],
   "source": [
    "#creating a subset containing only the location information\n",
    "WeatherStations.sub1 <- subset(WeatherStations.submain, select = c(Lat,Long))\n",
    "\n",
    "#preparing the dataset for dbscan: center and scale.\n",
    "scaled_WS.sub1 <- scale(WeatherStations.sub1, center = TRUE, scale = TRUE)\n",
    "head(scaled_WS.sub1)"
   ]
  },
  {
   "cell_type": "markdown",
   "metadata": {},
   "source": [
    "#####  Running the algorithm"
   ]
  },
  {
   "cell_type": "markdown",
   "metadata": {},
   "source": [
    "<div class=\"alert alert-block alert-info\" style=\"margin-top: 20px\">\n",
    "<font size = 3><strong>\"Tuning\" the algorithm</strong></font><br>\n",
    "<p>As mentioned above, DBSCAN is an algorithm that must be tuned for each particular dataset, using the **eps** and **minPts** parameters. The \"eps\" corresponds to the **size of the neighborhood** and \"minPts\" to the **minimum number that must exist in this neighborhood to define it as a dense area**.  </p>\n",
    "\n",
    "<p>In this implementation, **we gave the correct parameters for each one of the applications.** However, if you plan to apply this algorithm to your own problem, you will have to tune it by your own, according to the dataset you are using. </p>\n",
    "</div>\n"
   ]
  },
  {
   "cell_type": "code",
   "execution_count": 310,
   "metadata": {
    "collapsed": false,
    "scrolled": false
   },
   "outputs": [
    {
     "data": {
      "text/plain": [
       "DBSCAN clustering for 1258 objects.\n",
       "Parameters: eps = 0.138, minPts = 12\n",
       "The clustering contains 5 cluster(s) and 277 noise points.\n",
       "\n",
       "  0   1   2   3   4   5 \n",
       "277 516  40  24 360  41 \n",
       "\n",
       "Available fields: cluster, eps, minPts"
      ]
     },
     "execution_count": 310,
     "metadata": {},
     "output_type": "execute_result"
    }
   ],
   "source": [
    "#assigning clusters for each\n",
    "clusters_assignments1 <- dbscan(scaled_WS.sub1, eps = 0.138, minPts = 12)\n",
    "clusters_assignments1"
   ]
  },
  {
   "cell_type": "markdown",
   "metadata": {},
   "source": [
    "##### Attaching cluster assignment to each one of the datapoints"
   ]
  },
  {
   "cell_type": "code",
   "execution_count": 311,
   "metadata": {
    "collapsed": false
   },
   "outputs": [
    {
     "data": {
      "text/plain": [
       "     Lat     Long cluster_no\n",
       "1 48.935 -123.742          1\n",
       "2 48.824 -124.133          1\n",
       "3 48.829 -124.052          1\n",
       "5 48.735 -123.728          1\n",
       "6 48.432 -123.439          1\n",
       "7 48.985 -123.573          1"
      ]
     },
     "execution_count": 311,
     "metadata": {},
     "output_type": "execute_result"
    }
   ],
   "source": [
    "#clusters must be converted to factor before plotting in different colors\n",
    "clusters_assignments1$cluster <- as.factor(clusters_assignments1$cluster)\n",
    "\n",
    "#linking the assigned cluster to each station\n",
    "WeatherStations.sub1$cluster_no <- clusters_assignments1$cluster\n",
    "head(WeatherStations.sub1)"
   ]
  },
  {
   "cell_type": "markdown",
   "metadata": {},
   "source": [
    "##### Calculating the centroids for each cluster"
   ]
  },
  {
   "cell_type": "code",
   "execution_count": 322,
   "metadata": {
    "collapsed": true
   },
   "outputs": [],
   "source": [
    "#function that calculates the centroid of a given cluster_no and dataframe\n",
    "cluster_centroid <- function(cluster_no, df){\n",
    "    cluster_df <- df[ which(df$cluster_no==cluster_no), ]\n",
    "    lat_mean <- mean(cluster_df[[\"Lat\"]])\n",
    "    long_mean <-  mean(cluster_df[[\"Long\"]])\n",
    "    return(c(lat_mean,long_mean))\n",
    "}"
   ]
  },
  {
   "cell_type": "code",
   "execution_count": 314,
   "metadata": {
    "collapsed": true
   },
   "outputs": [],
   "source": [
    "#function that calculates all the centroids latitudes of a given dataframe\n",
    "all_lats_centroids <- function(df){\n",
    "    all_lats <- numeric ()\n",
    "    for (cluster in unique (df$cluster_no)){\n",
    "        all_lats[cluster] <- cluster_centroid (cluster,df) [1]\n",
    "    }\n",
    "    return (all_lats)\n",
    "}"
   ]
  },
  {
   "cell_type": "code",
   "execution_count": 323,
   "metadata": {
    "collapsed": true
   },
   "outputs": [],
   "source": [
    "#function that calculates all the centroids longitudes of a given dataframe\n",
    "all_longs_centroids <- function(df){\n",
    "    all_longs <- numeric ()\n",
    "    for (cluster in unique (df$cluster_no)){\n",
    "        all_longs[cluster] <- cluster_centroid (cluster,df) [2]\n",
    "    }\n",
    "    return (all_longs)\n",
    "}"
   ]
  },
  {
   "cell_type": "code",
   "execution_count": 329,
   "metadata": {
    "collapsed": false,
    "scrolled": true
   },
   "outputs": [
    {
     "data": {
      "text/plain": [
       "       1        0        2        3        4        5 \n",
       "50.95104 59.00052 54.10623 55.80708 45.67793 48.57029 "
      ]
     },
     "execution_count": 329,
     "metadata": {},
     "output_type": "execute_result"
    }
   ],
   "source": [
    "#storing the latitude of all cluster centroids\n",
    "lats_centroids1 <- all_lats_centroids (WeatherStations.sub1)\n",
    "lats_centroids1"
   ]
  },
  {
   "cell_type": "code",
   "execution_count": 330,
   "metadata": {
    "collapsed": false
   },
   "outputs": [
    {
     "data": {
      "text/plain": [
       "         1          0          2          3          4          5 \n",
       "-113.72187  -97.13291 -128.44907 -119.01042  -72.88263  -55.91310 "
      ]
     },
     "execution_count": 330,
     "metadata": {},
     "output_type": "execute_result"
    }
   ],
   "source": [
    "#storing the longitude of all cluster centroids\n",
    "longs_centroids1 <- all_longs_centroids (WeatherStations.sub1)\n",
    "longs_centroids1"
   ]
  },
  {
   "cell_type": "markdown",
   "metadata": {},
   "source": [
    "##### Visualizing the results\n",
    "Note that cluster number **0 represents the noise points.**"
   ]
  },
  {
   "cell_type": "code",
   "execution_count": 331,
   "metadata": {
    "collapsed": false,
    "scrolled": false
   },
   "outputs": [
    {
     "data": {
      "text/html": [
       "<iframe src='  weather_map.html  ' width='100%' height='400' />"
      ]
     },
     "metadata": {},
     "output_type": "display_data"
    },
    {
     "data": {
      "text/html": [
       "<iframe src='  weather_map1.html  ' width='100%' height='400' />"
      ]
     },
     "metadata": {},
     "output_type": "display_data"
    }
   ],
   "source": [
    "#plotting the graph\n",
    "subset <- WeatherStations.sub1\n",
    "color <- colorFactor(\"Set1\", as.factor(subset$cluster_no))\n",
    "weather_map1 <- leaflet(subset) %>%\n",
    "                setView(center_lon,center_lat, zoom)%>% \n",
    "                addProviderTiles(\"OpenStreetMap.BlackAndWhite\")%>% \n",
    "                addCircleMarkers(lng = subset$Long,\n",
    "                                lat = subset$Lat, \n",
    "                                popup = subset$Stn_Name,\n",
    "                                fillColor = ~color(cluster_no),\n",
    "                                fillOpacity = 1,\n",
    "                                radius = 4,\n",
    "                                stroke = F) %>% \n",
    "                addMarkers(lng = longs_centroids1,\n",
    "                           lat = lats_centroids1,\n",
    "                           popup = unique(subset$cluster_no))%>% \n",
    "                addLegend(\"bottomleft\",\n",
    "                        pal = color,\n",
    "                        values = ~cluster_no,\n",
    "                        opacity = 1,\n",
    "                        title = \"Cluster\")\n",
    "\n",
    "saveWidget(weather_map1, file=\"weather_map1.html\", selfcontained = F)\n",
    "\n",
    "#Plotting our raw data points\n",
    "display_html(paste(\"<iframe src=' \", 'weather_map.html', \" ' width='100%' height='400'\",\"/>\")) \n",
    "\n",
    "#Plotting our data points clustered by location\n",
    "display_html(paste(\"<iframe src=' \", 'weather_map1.html', \" ' width='100%' height='400'\",\"/>\")) "
   ]
  },
  {
   "cell_type": "markdown",
   "metadata": {},
   "source": [
    "The markers represents each **main station** and each cluster color the different groups of **normal stations** assigned to different main stations.   \n",
    "<font color = \"red\"> **Note that the cluster 0 is compounded by unassigned points. Therefore, its main station shouldn't be built.** </font>"
   ]
  },
  {
   "cell_type": "markdown",
   "metadata": {},
   "source": [
    "-----------------------"
   ]
  },
  {
   "cell_type": "markdown",
   "metadata": {},
   "source": [
    "### 3. Clustering by location and temperature\n",
    "After discussing more about the problem, it was decided that would be interesting to assign weather stations clustered by temperature. This way, if a main station detect a dangerous change in temperature, it can quickly warn all of its assigned weather stations, without losing time to identify and analyzing different temperature patterns. For that, we will have to maintain the location in consideration, but also take the temperature in account."
   ]
  },
  {
   "cell_type": "markdown",
   "metadata": {},
   "source": [
    "#####  Preparing the data (Subsetting and Normalizing)"
   ]
  },
  {
   "cell_type": "code",
   "execution_count": 118,
   "metadata": {
    "collapsed": false
   },
   "outputs": [
    {
     "data": {
      "text/plain": [
       "         Lat      Long     Tmax     Tmin\n",
       "1 -0.3834153 -1.142244 1.229689 2.171379\n",
       "2 -0.4011865 -1.158987 1.399106 1.853476\n",
       "3 -0.4003860 -1.155518 1.512051 1.893214\n",
       "5 -0.4154355 -1.141644 1.342633 2.012428\n",
       "6 -0.4639460 -1.129269 1.184511 2.242907\n",
       "7 -0.3754103 -1.135007 1.229689 2.250855"
      ]
     },
     "execution_count": 118,
     "metadata": {},
     "output_type": "execute_result"
    }
   ],
   "source": [
    "#creating a subset containing only the location\n",
    "WeatherStations.sub2 <- subset(WeatherStations.submain, select = c(Lat,Long,Tmax,Tmin))\n",
    "\n",
    "#preparing the dataset for dbscan: center and scale.\n",
    "scaled_WS.sub2 <- scale(WeatherStations.sub2, center = TRUE, scale = TRUE)\n",
    "head(scaled_WS.sub2)"
   ]
  },
  {
   "cell_type": "markdown",
   "metadata": {},
   "source": [
    "#####  Running the algorithm"
   ]
  },
  {
   "cell_type": "code",
   "execution_count": 350,
   "metadata": {
    "collapsed": false
   },
   "outputs": [
    {
     "data": {
      "text/plain": [
       "DBSCAN clustering for 1258 objects.\n",
       "Parameters: eps = 0.27, minPts = 12\n",
       "The clustering contains 8 cluster(s) and 443 noise points.\n",
       "\n",
       "  0   1   2   3   4   5   6   7   8 \n",
       "443 154  20  14 246  54 297  18  12 \n",
       "\n",
       "Available fields: cluster, eps, minPts"
      ]
     },
     "execution_count": 350,
     "metadata": {},
     "output_type": "execute_result"
    }
   ],
   "source": [
    "#assigning clusters for each\n",
    "clusters_assignments2 <- dbscan(scaled_WS.sub2, eps = 0.27, minPts = 12)\n",
    "clusters_assignments2"
   ]
  },
  {
   "cell_type": "markdown",
   "metadata": {},
   "source": [
    "##### Attaching cluster assignment to each one of the datapoints"
   ]
  },
  {
   "cell_type": "code",
   "execution_count": 351,
   "metadata": {
    "collapsed": false
   },
   "outputs": [
    {
     "data": {
      "text/plain": [
       "     Lat     Long Tmax Tmin cluster_no\n",
       "1 48.935 -123.742 13.5  1.0          1\n",
       "2 48.824 -124.133 15.0 -3.0          1\n",
       "3 48.829 -124.052 16.0 -2.5          1\n",
       "5 48.735 -123.728 14.5 -1.0          1\n",
       "6 48.432 -123.439 13.1  1.9          1\n",
       "7 48.985 -123.573 13.5  2.0          1"
      ]
     },
     "execution_count": 351,
     "metadata": {},
     "output_type": "execute_result"
    }
   ],
   "source": [
    "#clusters must be converted to factor before plotting in different colors\n",
    "clusters_assignments2$cluster <- as.factor(clusters_assignments2$cluster)\n",
    "#linking the assigned cluster to each station\n",
    "WeatherStations.sub2$cluster_no <- clusters_assignments2$cluster\n",
    "head(WeatherStations.sub2)"
   ]
  },
  {
   "cell_type": "markdown",
   "metadata": {},
   "source": [
    "##### Calculating the centroids for each cluster"
   ]
  },
  {
   "cell_type": "code",
   "execution_count": 352,
   "metadata": {
    "collapsed": false
   },
   "outputs": [
    {
     "data": {
      "text/plain": [
       "       1        0        2        3        4        5        6        7 \n",
       "49.59656 55.49524 53.64030 51.88571 52.28107 49.98793 45.82021 45.17428 \n",
       "       8 \n",
       "47.43650 "
      ]
     },
     "execution_count": 352,
     "metadata": {},
     "output_type": "execute_result"
    }
   ],
   "source": [
    "#storing the latitude of all cluster centroids\n",
    "lats_centroids2 <- all_lats_centroids (WeatherStations.sub2)\n",
    "lats_centroids2"
   ]
  },
  {
   "cell_type": "code",
   "execution_count": 353,
   "metadata": {
    "collapsed": false
   },
   "outputs": [
    {
     "data": {
      "text/plain": [
       "         1          0          2          3          4          5          6 \n",
       "-122.46975  -95.72415 -131.13415 -120.97850 -108.68546 -112.76052  -73.76266 \n",
       "         7          8 \n",
       " -63.60828  -54.16892 "
      ]
     },
     "execution_count": 353,
     "metadata": {},
     "output_type": "execute_result"
    }
   ],
   "source": [
    "#storing the longitude of all cluster centroids\n",
    "longs_centroids2 <- all_longs_centroids (WeatherStations.sub2)\n",
    "longs_centroids2"
   ]
  },
  {
   "cell_type": "markdown",
   "metadata": {},
   "source": [
    "##### Visualizing the results\n",
    "Note that cluster number **0 represents the noise points.**"
   ]
  },
  {
   "cell_type": "code",
   "execution_count": 354,
   "metadata": {
    "collapsed": false
   },
   "outputs": [
    {
     "data": {
      "text/html": [
       "<iframe src='  weather_map.html  ' width='100%' height='400' />"
      ]
     },
     "metadata": {},
     "output_type": "display_data"
    },
    {
     "data": {
      "text/html": [
       "<iframe src='  weather_map2.html  ' width='100%' height='400' />"
      ]
     },
     "metadata": {},
     "output_type": "display_data"
    }
   ],
   "source": [
    "#plotting the graph\n",
    "subset <- WeatherStations.sub2\n",
    "color <- colorFactor(\"Set1\", as.factor(subset$cluster_no))\n",
    "weather_map2 <- leaflet(subset) %>%\n",
    "                setView(center_lon,center_lat, zoom)%>% \n",
    "                addProviderTiles(\"OpenStreetMap.BlackAndWhite\")%>% \n",
    "                addCircleMarkers(lng = subset$Long,\n",
    "                                lat = subset$Lat, \n",
    "                                popup = subset$Stn_Name,\n",
    "                                fillColor = ~color(cluster_no),\n",
    "                                fillOpacity = 1,\n",
    "                                radius = 4,\n",
    "                                stroke = F) %>%\n",
    "                addMarkers(lng = longs_centroids2,\n",
    "                           lat = lats_centroids2,\n",
    "                           popup = unique(subset$cluster_no)) %>%\n",
    "                addLegend(\"bottomleft\",\n",
    "                        pal = color,\n",
    "                        values = ~cluster_no,\n",
    "                        opacity = 1,\n",
    "                        title = \"Cluster\")\n",
    "\n",
    "saveWidget(weather_map2, file=\"weather_map2.html\", selfcontained = F)\n",
    "\n",
    "#Plotting our raw data points\n",
    "display_html(paste(\"<iframe src=' \", 'weather_map.html', \" ' width='100%' height='400'\",\"/>\"))\n",
    "\n",
    "#Plotting our data points clustered by temperature and location\n",
    "display_html(paste(\"<iframe src=' \", 'weather_map2.html', \" ' width='100%' height='400'\",\"/>\"))"
   ]
  },
  {
   "cell_type": "markdown",
   "metadata": {},
   "source": [
    "The markers represents each **main station** and each cluster color the different groups of **normal stations** assigned to different main stations.   \n",
    "<font color = \"red\"> **Note that the cluster 0 is compounded by unassigned points. Therefore, its main station shouldn't be built.** </font>"
   ]
  },
  {
   "cell_type": "markdown",
   "metadata": {},
   "source": [
    "#### Our model is ready! Once we have more data about other weather conditions and parameters we can further refine, come up with better ideas and come up an infinite amount of ways to cluster the weather stations."
   ]
  },
  {
   "cell_type": "markdown",
   "metadata": {},
   "source": [
    "------"
   ]
  },
  {
   "cell_type": "markdown",
   "metadata": {},
   "source": [
    "<div class=\"alert alert-success alertsuccess\" style=\"margin-top: 20px\">\n",
    "<font size = 3><strong>Expert tip:</strong></font>\n",
    "<br>\n",
    "<br>\n",
    "Now that you know how we applied the DBSCAN to a specific problem, it's time to think about what kind of problem you can solve with this new tool. You can start by searching about it in the internet, and use this notebook as a quick way to apply DBSCAN on these different problems.<p></p>\n",
    "\n",
    "</div>"
   ]
  },
  {
   "cell_type": "markdown",
   "metadata": {},
   "source": [
    "### Thanks for completing this lesson!\n",
    "\n",
    "Notebook created by: <a href = \"https://ca.linkedin.com/in/erich-natsubori-sato\">Erich Natsubori Sato</a>"
   ]
  },
  {
   "cell_type": "markdown",
   "metadata": {},
   "source": [
    "### References:\n",
    "\n",
    "https://en.wikipedia.org/wiki/DBSCAN <br>\n",
    "https://cran.r-project.org/web/packages/dbscan/dbscan.pdf <br>\n",
    "https://www.aaai.org/Papers/KDD/1996/KDD96-037.pdf <br>\n",
    "http://www.cse.buffalo.edu/~jing/cse601/fa12/materials/clustering_density.pdf <br>"
   ]
  },
  {
   "cell_type": "markdown",
   "metadata": {},
   "source": [
    "<hr>\n",
    "Copyright &copy; 2016 [Big Data University](https://bigdatauniversity.com/?utm_source=bducopyrightlink&utm_medium=dswb&utm_campaign=bdu). This notebook and its source code are released under the terms of the [MIT License](https://bigdatauniversity.com/mit-license/)."
   ]
  }
 ],
 "metadata": {
  "kernelspec": {
   "display_name": "R",
   "language": "",
   "name": "ir"
  },
  "language_info": {
   "codemirror_mode": "r",
   "file_extension": ".r",
   "mimetype": "text/x-r-source",
   "name": "R",
   "pygments_lexer": "r"
  },
  "widgets": {
   "state": {},
   "version": "1.1.2"
  }
 },
 "nbformat": 4,
 "nbformat_minor": 0
}
