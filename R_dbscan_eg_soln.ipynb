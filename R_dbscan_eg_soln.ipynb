{
 "cells": [
  {
   "cell_type": "markdown",
   "metadata": {},
   "source": [
    "# Exercise - Density-based Spatial Clustering of Applications with Noise (DBSCAN) in R\n",
    "This notebook is designed to help get you familiar with using the DBSCAN algorithm in R through a simple exercise. \n",
    "\n",
    "## The problem\n",
    "We would like to analyze kernels of wheat to find a method through which we can group the kernels by size.\n"
    "In this notebook, we will load and explore 'seeds.txt' in R, which is a dataset containing measurements of geometrical properties of kernels belonging to three different varieties of wheat. \n",
    "\n",
    "The DBSCAN algorithm combines data points that are closely packed together into clusters based on the parameters **eps** and **minPts**. \n",
    "\n",
    "The **eps** parameter corresponds to the size of the neighborhood. \n",
    "\n",
    "The **minPts** parameter corresponds to the minimum number of points that must exist in this neighborhood to define it as a dense area. \n",
    "\n",
    "This exercise covers:\n",
    "\n",
    "1. Installing and loading the DBSCAN library and the data in R\n",
    "2. Creating a subset from the datatset\n",
    "3. Using the dbscan function to obtain clusters\n",
    "4. Converting the clusters to factors \n",
    "5. Attaching the clusters to the measurements\n",
    "6. Visualizing the results\n"
   ]
  },
  {
   "cell_type": "markdown",
   "metadata": {},
   "source": [
    "## Installing and loading the DBSCAN library and the data in R\n",
    "We begin by installing the dbscan package and loading it along with the dataset .\n",
    "\n"
   ]
  },
  {
   "cell_type": "code",
   "execution_count": 1,
   "metadata": {
    "collapsed": false
   },
   "outputs": [
    {
     "name": "stderr",
     "output_type": "stream",
     "text": [
      "Installing package into ‘/resources/common/R/Library’\n",
      "(as ‘lib’ is unspecified)\n",
      "Warning message:\n",
      "In install.packages(\"dbscan\", dependencies = TRUE): installation of package ‘dbscan’ had non-zero exit status"
     ]
    },
    {
     "data": {
      "text/plain": [
       "   area perimeter compactness length width asymmetry_coeff groove_length type\n",
       "1 15.26     14.84      0.8710  5.763 3.312           2.221         5.220    1\n",
       "2 14.88     14.57      0.8811  5.554 3.333           1.018         4.956    1\n",
       "3 14.29     14.09      0.9050  5.291 3.337           2.699         4.825    1\n",
       "4 13.84     13.94      0.8955  5.324 3.379           2.259         4.805    1\n",
       "5 16.14     14.99      0.9034  5.658 3.562           1.355         5.175    1\n",
       "6 14.38     14.21      0.8951  5.386 3.312           2.462         4.956    1"
      ]
     },
     "execution_count": 1,
     "metadata": {},
     "output_type": "execute_result"
    }
   ],
   "source": [
    "# Installing the library 'dbscan'\n",
    "install.packages(\"dbscan\", dependencies = TRUE)\n",
    "library('dbscan')\n",
    "# Downloading the file in the Data Scientist Workbench\n",
    "download.file(\"https://raw.githubusercontent.com/domwarr/R-Mining/master/seeds.txt\",\"/resources/seeds.txt\")\n",
    "# Load data\n",
    "seeds <- read.csv(\"seeds.txt\", sep = \"\t\")\n",
    "head(seeds)"
   ]
  },
  {
   "cell_type": "markdown",
   "metadata": {},
   "source": [
    "## Creating a subset from the dataset\n"
   ]
  },
  {
   "cell_type": "code",
   "execution_count": 2,
   "metadata": {
    "collapsed": false
   },
   "outputs": [
    {
     "data": {
      "text/plain": [
       "  width length\n",
       "1 3.312  5.763\n",
       "2 3.333  5.554\n",
       "3 3.337  5.291\n",
       "4 3.379  5.324\n",
       "5 3.562  5.658\n",
       "6 3.312  5.386"
      ]
     },
     "execution_count": 2,
     "metadata": {},
     "output_type": "execute_result"
    }
   ],
   "source": [
    "# Creating the subset: The subset contains the kernel width and the kernel length\n",
    "seeds.sub <- subset(seeds, select = c(width,length))\n",
    "head(seeds.sub)\n"
   ]
  },
  {
   "cell_type": "markdown",
   "metadata": {},
   "source": [
    "## Using the dbscan function to obtain clusters\n"
   ]
  },
  {
   "cell_type": "code",
   "execution_count": 3,
   "metadata": {
    "collapsed": false
   },
   "outputs": [
    {
     "data": {
      "text/plain": [
       "DBSCAN clustering for 210 objects.\n",
       "Parameters: eps = 0.08, minPts = 4\n",
       "The clustering contains 4 cluster(s) and 40 noise points.\n",
       "\n",
       "  0   1   2   3   4 \n",
       " 40 128   8   4  30 \n",
       "\n",
       "Available fields: cluster, eps, minPts"
      ]
     },
     "execution_count": 3,
     "metadata": {},
     "output_type": "execute_result"
    }
   ],
   "source": [
    "# Use the dbscan function to obtain clusters and store them in clusters_assignments1 \n",
    "# For this exercise we will use eps = 0.8 and minPts = 4\n",
    "# Note: you can change the values to see the formation of different clusters\n",
    "clusters_assignments1 <- dbscan(seeds.sub, eps = .08, minPts = 4)\n",
    "clusters_assignments1 \n"
   ]
  },
  {
   "cell_type": "markdown",
   "metadata": {},
   "source": [
    "## Converting the clusters to factors\n"
   ]
  },
  {
   "cell_type": "code",
   "execution_count": 4,
   "metadata": {
    "collapsed": false,
    "scrolled": true
   },
   "outputs": [
    {
     "data": {
      "text/plain": [
       "[1] 1 1 2 2 0 2\n",
       "Levels: 0 1 2 3 4"
      ]
     },
     "execution_count": 4,
     "metadata": {},
     "output_type": "execute_result"
    }
   ],
   "source": [
    "# Clusters must be converted to factor before plotting in different colors\n",
    "clusters_assignments1$cluster <- as.factor(clusters_assignments1$cluster)\n",
    "head(clusters_assignments1$cluster)\n"
   ]
  },
  {
   "cell_type": "markdown",
   "metadata": {},
   "source": [
    "## Attaching the clusters to the measurements\n"
   ]
  },
  {
   "cell_type": "code",
   "execution_count": 5,
   "metadata": {
    "collapsed": false
   },
   "outputs": [
    {
     "data": {
      "text/plain": [
       "  width length cluster_no\n",
       "1 3.312  5.763          1\n",
       "2 3.333  5.554          1\n",
       "3 3.337  5.291          2\n",
       "4 3.379  5.324          2\n",
       "5 3.562  5.658          0\n",
       "6 3.312  5.386          2"
      ]
     },
     "execution_count": 5,
     "metadata": {},
     "output_type": "execute_result"
    }
   ],
   "source": [
    "# Combine the cluster assignments with the subset\n",
    "seeds.sub$cluster_no <- clusters_assignments1$cluster\n",
    "head(seeds.sub)\n"
   ]
  },
  {
   "cell_type": "markdown",
   "metadata": {},
   "source": [
    "## Visualizing the results\n"
   ]
  },
  {
   "cell_type": "code",
   "execution_count": 6,
   "metadata": {
    "collapsed": false,
    "scrolled": true
   },
   "outputs": [
    {
     "data": {
      "image/png": "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"
     },
     "metadata": {},
     "output_type": "display_data"
    },
    {
     "data": {
      "image/png": "iVBORw0KGgoAAAANSUhEUgAAAeAAAAHgCAMAAABKCk6nAAADAFBMVEUAAAAAAAAAAAAAAAAAAAAAAAAAAAAAAAAAAAAAAAAAAAAAAAAAAAAAAAAAAAAAAAAAAAAAAAAAAAAAAAAAAAAAAAAAAAAAAAAAAAAAAAAAAAAAAAAAAAAAAAAAAAAAAAAAAAAAAAAAAAAAAAAAAAAAAAAAAAAAAAAAAAAAAAAAAAAAAAAAAAAAAAAAAAAAAAAAAAAAAAAAAAAAAAAAAAAAAAAAAAAAAAAAAAAAAAAAAAAAAAAAAAAAAAAAAAAAAAAAAAAAAAAAAAAAAAAAAAAAAAAAAAAAAAAAAAAAAAAAAAAAAAAAAAAAAAAAAAAAAAAAAAAAAAAAAAAAAAAAAAAAAAAAAAAAAAAAAAAAAAAAAAAAAAAAAAAAAAAAAAAAAAAAAAAAAAAAAAAAAAAAAAAAAAAAAAAAAAAAAAAAAAAAAAAAAAAAAAAAAAAAAAAAAAAAAAAAAAAAAAAAAAAAAAAAAAAAAAAAAAAAAAAAAAAAAAAAAAAAAAAAAAAAAAAAAAAAAAAAAAAAAAAAAAAAAAAAAAAAAAAAAAAAAAAAAAAAAAAAAAAAAAAAAAAAAAAAAAAAAAAAAAAAAAAAAAAAAAAAAAAAAAAAAAAAAAAAAAAAAAAAAAAAAAAAAAAAAAAAAAAAAAAAAAAAAAAAAAAAAAAAAAAAAAAAAAAAAAAAAAAAAAAAAAAAAAAAAAAAAAAAAAAAAAAAAAAAAAAAAAAAAAAAAAAAAAAAAAAAAAAAAAAAAAAAAAAAAAAAAAAAAAAAAAAAAAAAAAAAAAAAAAAAAAAAAAAAAAAAAAAAAAAAAAAAAAAAAAAAAAAAAAAAAAAAAAAAAAAAAAAAAAAAAAAAAAAAAAAAAAAAAAAAAAAAAAAAAAAAAAAAAAAAAAAAAAAAAAAAAAAAAAAAAAAAAAAAAAAAAAAAAAAAAAAAAAAAAAAAAAAAAAAAAAAAAAAAAAAAAAAAAAAAAAAAAAAAAAAAAAAAAAAAAAAAAAAAAAAAAAAAAAAAAAAAAP8AzQAA////AAAZLYTqAAABAHRSTlMAAQIDBAUGBwgJCgsMDQ4PEBESExQVFhcYGRobHB0eHyAhIiMkJSYnKCkqKywtLzAxMjM0NTY3ODk6Ozw9Pj9AQUJDREVGR0hJSktMTU5PUFFSU1RVVldYWltcXV5fYGFiY2RlZmdoaWprbG1ub3BxcnN1dnd4eXp7fH1+f4CBgoOEhYaHiImKi4yNj5CRkpOUlZaXmJmam5ydnp+goaKjpKWmp6ipqqusra6vsLGys7S1tre4ubq7vL2+v8DBwsPExcbHyMnKy8zNzs/Q0dLT1NXW19jZ2tvc3d7f4OHi4+Tl5ufo6err7O3u7/Dx8vP09fb3+Pn6+/z9/v//////GZLUxwAAHjtJREFUeJztnXtgFcW9gCckIUFIKs+ALQVUaotAuSJqC1S9lsKFIhXqVQG55SGtaLXtBfqi2tTXpdqSCkra0vrCBygK9YVYgWtAooCXq0F8xCQNR1JJAjkhQcIo6e6ec/a9e2Z2Z3dnd3/fHznnzOw8sl9mdmZ2zgYhAAAAAAAAAAAAAAAAAAAAAAAAAAAAAAAAAAAAAAAAAAAAgAMq8WY3h9GGOz8wfuTdvPdIywcb/9M08h7conqxQXeC1QmewLgjWfO3WV2Mh1klzxqepuv12xrb3nvoIusDs9c88qzAGB/HeI1ppK3ggi7Ke3vBEpu7CUYK803LsfJjdXyKnruEbE9gvJZWsLrmkacBP1OMek8RW/CcipZjb89G6Cd7Pv6k8aVLENojmbkn/YJyFrzemtw6AUnn86YPT55eiV/6WW3b1nPTJ7jLoj3HWnfOlNOlChAEf27ApNcxXpE+7JvbDrfXvzhG/KRJLhf7R1wtGLgbf5QvhQuH/aQ6+fLZCJ22urlx5VKMv5DKeS3GG87p0mvionQG1fgRhJZg3EMuwrLmch2iz/u44sKu0rv/wfjIm01lCD21/9kna3H7OeivB3HHjh03pV+E5tDx4qv45DTxNB3DNU2C4I7adc247rTUCb4X4w/rMf5ZJl2qAEFwIUK9D+FkgXRY72P49fU72meKuWiSy8V+FeOJKKcWL0dpwR2H/96BtyG0BuPafx7NCO7dgQ8UpH+LtOCHU4LlIqxqfpZch+gzt0Pooitv6YW+2IG3FqOuwxHqg3qdOeqEIErbRQ/uwD9E6HFcJZ4mPB3ld6nEyRJ0McbXSyd4yEn8aE7+FnysWN9FC4LReoy/Ih12HsZnIVTcT8xFnVxV7Fa8Dn0d42EZwcfPFtoz7jbwJH68S/c3M4LHYbwqU0ha8IMpwUoRFjU/Xz4gBoy8a2cbxm91m4HxjFTI7BqpZ/uDTvB30xdT3F04TW+L4ZW4AqGc4/g+6QQL8VMRWoDxWFvBp9Vh3PD3n/bQJ1cVOwMfL/mdGJkW/BpC12M8aBLGlyP0y+yClSIsaq4cEA+6CSOti2XB53Tg56+ZcVw8e3rBa5eLiF3qS2J4Ja4UhuEnFMHC+b/OXHDvhkwXjb5Y+vyHGP9Jn1xVbF4N/uk/8HxZsPBjIcaDJ0l/Qcsygvvou+gPxGvw7eI1WC7CqubyAdHngblD8gqEDvBSoYveVozyh6HpGI9Gw6XmcRs+Ll6fUy9CF3y38KFkmjxorcQnvopmm3TR6XQS4iCrv2qQ1UPoHNF9YkPSJlcVi5biozhZpBc8sAM/nKN00elBVs+J16eP2SH8wRTsEwQrRVjUXDkg+lQLMw3hMlxdKA2y9jaWobM/wdt/9cFJ8Uxfg/EHOy7LvJRhvHvD3hMbVYKPtr/Xgeu76wZZmQQS6mmSeNjZ+K1NG1vxA/rkqmLFgZg0cdMKRn/G+B+H5UEW6lmpnSb9GuNKIT/cQynCoubKAdFn+gNVzZ/U/mWQ8HbOjpZjVdcKPdr+9rdmtEh95R8bML4q85KzcFdr6/uPTVEJ3jz/g/ZtIzLTpBv2tLW+NgvJ6SQEwSeP1T4/O7PQ0fuR/UfbPvhdkSG5Uqw4U8LjkUGwME1quv82jHun69510fam4x+uzSx09Pjzx4fvE7topQiLmisHAHa4XCC0Sf4jvN8k9IzTBKmv4Q/dFApQ4JXgmU+04Dkm4fMaX1hfi09e5aZQgAKvBN+DG35tFv717YdPNGy61E2ZAAAAAAAAAAAAAAAAAAAAAAAAAAAAAAAAAAAAQDzpPX8BEDzX2n2F2RVXPiQVsPUXNNW5cY8nv2WM2X6WZ4J/IL3c9yWaRMUbPKlLjCkHwdHGP8HVowkSgWDW+CB4+o7Whk1fMwquMzEOglnjveBfHFnw+dNnrMoqOE/8AYJZ47ngPzYvEF9yRMEn+iN0TylCtxxs2j/m3hP11bNRyWOHqm9GKLF0z9ti8IGtXlUnrngueAMuTn1WBJ9X3RcN+YLUgnNeXV44aP9klNhUkCMGj3jBq+rEFc8FP9+a/qwIHnnoMvEJCqLgkc25CN2wBiUmICkYumjWBNGC0fd2NT/YVxI8ta2qqur99SgxAknBjz7rVXXiig/X4Pnii3QNbh6E0AOl4sc+z/wO1QiCRyVypKMSw6WXPs++51V1QgDGmH2m3o+if9k8b8Dp01eKgl9ZgM5qKkXnfi2v6yO/RZVXIdSl4q4eucPGSILF4Cfe9ao6/CM9C4Z5rj7Mg2fsbG3YeJEoeNTuPRseKkUX7D7S8HhPdEVt43xU8mCicccESbAY/NTfvKqOhzASE1rBNInCOMhiJQYEcwpmZAYEcwo7MR6MsUAwAzxpeawAwREHBEccEBxxQHDEAcERJ2DBRWuTdQtVn0EwawIWvHpL33FHxymfQTBrfBesmTTmt4wXqlCuxIJg1gQiWDY8VLxZvKhCiQXBrAlW8Cicg9CsfUosCGYNtGDeYLzs6f8gS3MNTo4VBlpwDVaRaQCsFrgDHkWXv9DzwmYYRatIC3Z8i0qfLuh58KPJepgHq2EhWJ0QVrI4w5Fg1dEgmHfSeqgaMAjmCvb7A9RW+boG64mDYA/2XtlkGbDgH+7+ZJX6Mwh2nKdFDBPBI5bdavx/80SCp3/7QRDsKa4FNxWgS9o2Pdk+VR9hJbizs1P9sSx2gv3dpOdaMC5ELy1GaF6lPsJCcGen1nAMBfsKC8G15yDUp0UfAYK5wL3g+XNqRiI0sEkfAYLp8aDzdi14o8AkhGa9oo+wEaz+DIJVeDD+YjVN6t5DH0I0is4rXLm6ME/5DIJ5FWyESHCp+BvdoXwGwWaC3UhnJXhiqfz2uy9KvPuk9AlWsmiw8OvCMCvB857Th9y9VnoBwW5x9/VU77poEMwIdxdmEMw/wQo+fxAqvHXXrmUF+ggQzAw3A2vXgt8Zhcr2zp275259BIngrmXvte5Vr2KDYNa4FtzeFx0ciNAZB/URJIKLVozud13b2UoACGaN+xY8GdWXINTHsFRpIfgzAV0OVyrvIyI4wGc6MN9VOaf+2iXbLp+69X59hI1gjeH+x7+ifIiGYMv1Ch+0s982O/WNkxg33Ek6yNILLni5TPUpyoJ9udFvmDSzmCYVnDnAJJRMcP6Gx3JVsSCYRdH+7Kq0GmRp/Oate1rzf32iI9g81Ps+2r9vNpCMonPXbvlcYaGqCUdDsMXM1detOhmCFTxY+qu+SQmIimByTp065Wn+sFQZLKdOeWwYBAcLCI44IDjieO03aMFlNe01pV2Uz7ETLCj2NvuABY8/q+eFiWuUzzEUrMaD9uy/4E8//VTzue+BKcoHEBx6wZ9+qjF826FPlqpi4y34lAdDrqAFFw28+vAFyse4CDZf05IFM9QctGCBlao7jTERbLUsrfhlZjgQwdqQVar7hTEXnCbUgjUU3Tik14zkZUoACBaJjuDuz36c3HO1KiAmgrNs7oiOYANxEZwNdopBMJeA4IgDgiMOCI460RE8OKn+4ikIpiP7Nq8ABGv/Mp/ZBoIdQ/DVYd8F6/qeaU8vAcFaKHpnXgUr9e9eNQQEa6EaX3HYRWvrf+cyBIK10N0zzLrTOljBw6oKIy6YfrO7mV8XQ2r/B1nqyi5MJhJH26uVyEgKpjdsDHFsONhpUrf+/fuXbilRAkIt2Or7SOaCKZyFV7BIZLpouq8U0kgLt2ANIRZs3ljtGjBdE3ZYLRDMCsrnlakFe7n7HQQzg244pRLsxWZKGRDMDsrhsqz0lIwmOiI3G7SEWrBjzASzatQgmANElzrBzLptEMwJ+jYMgqOGznBouui7tr1IwZY1XlWHL8z1eTGa9lwwYIa5ShAcGUBwxLFQ6cFyBwgOBC8XJ7WAYG8I8IHCWkCwJ3j3XErahg+CPcErwfTDMBDsCTZf4SdIbX0QCOYFc8FkfmwOAsF8Qy7Y4igQzDeuBdNvoAXBvpJSl0Uzwa1C8oYMgr3D9CqMCNpxxjCLsRYIdoXdXMjFhkrzTTw0OciAYDfYTXetd1mC4NDgTDDBFTSLYIqxFgh2g+2CldvFLDY3D0GwG+xXJN0uVjK54wSCXeHbPSPHD6EFwTxhO6py1meDYI6wNHhKBWWeIJgjSATT5gmCOcLaINESpykgmCNsJ74O8wTB/MBk3qsHBHODs2tsNkAwN4BgDjD+SxGGQBcdOMb/CWSFo4VoLzbDg2AaPtUbthTu0b5ZmCZ5i5lfU8GUj9whBVayvIZUsEct2MEwzL3gceUV+yrKxxnCIylYh71gZ3maKJS1BiF44ZHyRbMWrT6yUB8RB8G2o2pnjk0cntIIpszPteD6sdLLRXX6iFgItsFhJ20rOIhBVmsf6aVnUh8RJ8FmrdgTwfS4Fvzo5nHFOcVjNxt0xkeweT/tdJhldw12gGvBReVJ4RdpWV2kj4iXYHPDjApws/7BYJqUP3TU0HxjcOwFM8PVEiaZ4Lxrlq8SoMoZBDPC3T0IMsF/rbr95wI2R0wsld/2Pk/i4XWOKxUu/GjAXl+Dj/TLdsQ85cH8l94hset5p3UKGV4L9qOL3l+S/Rg9seminQk2GytbbZt1c5eJQPDw4cMXbv6m8HM4Vc6xEexoOcvQKh1vm8wCgeCEjFns+YNQ4a27di0r0EfER7AdFrNho8sABdvzzihUtnfu3D136yNAMLK+bcib4NnSz/lmUe190cGBCJ1xUB8BgkXC0EULpP75XKNZ1DuTUb0wBOvTpI8AwRJWy1mmgywPIBE8enT9aIGraswi59Rfu2Tb5VO33q+PAMFcQCK4ru5EXV1dTeUVprFT3ziJccOdMMjiE7Iu+l7b2IIzB5iEgmAugD1ZEYdMcGrx8Zb5n6fIOdqCOwWCrgMRZILLW59a8VTrmqdbJpPnHBrBTu7bdkZM8MaLhR8Xb0ST3iTPOSyCHe286AyNYcK7SbnCj9xmlHOYPOfoC/aiNswhE7zrx11Qlx+/hkrqyHOOtOCoXYNHvvvR7o8ODEdj55HnHCbBQdfBQwinSXkXTBuTS5dzWARHHJgHB4VPPQdsulNwdV2lTezdP97RQrjpbudvsmy6MxI6wdmnPibxcgjtuJovwe+a7HvORkQFdxpDOokS6+FK8M48+pxDJzhrL2siUQminxn7M3gnE7z48W/EYdNdNkN2ghGtX58gE2yz6c6SEArOhrGR8r9kCdMkl1j55UU8oeDJa9ajMROoco6gYApp3LRsMsE377/hfXTuDqqcoyeYRho3fTeZ4A+/iKpQrumuSktCKthGi2pKRJKN3VH+LYCTCW4oFAQX1VPlHE7BdmLScepD7A+2LsavZQ5SwU/cmVuV89u/UuUcPcFItaZBcLQNHj0nzQwywQMqmtsS/9uXKucICjYcEhnBKGfk1K/m0OUcTsEkI2VND+1sJMXbNVgifw1VziEVTAcnQ2UbKAQX0v3NxUIw/4DgoODrGiwSYcEB9LR+XYVJBM9M8V/RFuyvYd+G0SSC92WgyjlEgmnWFRn9JXAl2BkhEkzRgpm1dRDsJ2abrSwPZNSZ8zfIoiRMgg2YaZTCeLlJRAwINkXvsTNNCFY2dIBgU3SCO2XBoYNA8GgZqpxBMBcQCK6WocqZH8FOzFj00OEjBl00CzfhlCsSg013oW18TIjDprs4+43HpjuLOa3dAc7g8Mvkcdh0Z2zBZoNk03SkBaTf+LcTh5gYbLozuQbrgswFE1+6leNCKzjUm+6sBGs2OpMIthCuyj+0gsO96c7sVoJTweY9uboJM6o0K2IwD7ZGNmPeFVu0e9Ns2FeOEbF+RgflBNnycI79xvwZHbqRFs3hYQGe0ZGGrjVz3StrgGd0pKESHKLFT3hGRxpyZ+G6tRSXZ3RkNyIPqLMc2EkkmJsJcVymSVTLUgQPUyLwGyLB+f9PucghEk7B2eUR5RQywWh3V/qcwymY4MAoCl76zDdHhHyQRTOEYlAcL35jM8jSE55hsEviMsjSEaJ5jktisCfLDA9mstxcdbXEYU+WBqfPhs0GP8MqLbHYk6WgukHIuIcOt+Bw78lS4d21N9yCQ70nS42Hgys+/VLtySqhyjlugjmFRPB3Unuy8v5ClTOPgrP4jaJ9EsFN/yH+zFv7FlXOHArO1n6p2zen1101JIInNP07Ql3X7w3ptlkFggZs8yRSkzBeR1YqiK7BUxrHF2x8vRddzuETbBdvGuPjM0UdQzbImn54+47TKXPmUHD2p0Fne1a0jogInjlz5lNHvi/8pMo5ZIJNo5QQa8EMq+cF8XoQGqVgVVBoB9gxu5tE0AcrKjXOQ+o3woLJ2pxGZybA5fPcuYKJ4BHLbh1jCAxYMJkd41GdOsNe1M1PXAtuKkCXtG16sn2qPiI8gq2/Qki97EFzuD+4FowL0UuLEZpXqY8Ij2BjkKMS+ZwzsRBcew5CfVr0EcEKtvarjWDYC0dV8Pw5NSMRGtikjwhUMO2ElwURFbxRYBJCs17RR3AvOB57OlhNk7r30IfwLtiDhsyf3qjNg4lWnowT3ijDSvDEUvntt+6TePN5NjlToHZG8nV9EEzOvOfkt8VnSvzpcTY5U2DlzPrpR17XKHgi1UVbOLNYm2L0HSQGmXhJNARntBEJZtlsuRw4a4jEWnQWbUq0cWXSHXzOjDREYi2aWDDrFhwHwYGvRXdm16bdmMGy8HgI9mMt2m5lmXXHSwPvfoNZi6a3YakwHRGD+Y5DgliLdtDesgl2QiymwUGsRTtx4oFgWOhwCVPB1q3eTQMGwW5g2kV7AAh2CYtBlpcGbAR/JuBdwf4S7FJlljakXTnOLEa5rJc6e/Pwz0AwCQSCDY3IZIOjbgnKj34VBBPhQLD2o2b9IjPf9ePKCYKJoBGsvhegjbUTbFStTe605lHyG/w1WN3vmgjWfzA612Xn/tti5g04rM65uB9scYE1c0Qq2EVf/lkaQ6D8zlG2AcGV4OzdqkmvbR7b6dzwZ2aG5YCwXaC5EUx+pM29Xb1+uw7AGhBMBM3tQoqVD81V2hivPdQ+uQ2mgs1jOCeglSzHQ1yKpCYHkvfbBouqSzCxXx62AwQm2IFh9zNgP2bRKuIqmKAdZdkc6Ri6LFx2xlw8ZYnPFmwaz0owcR5uL7fxFmyX1HoEHCrBse2is0IxxaFTTjc5DtuA2RQuBRNfKqkbNV0CEGxHNsG2p5rQAn2v7biXD6trXwUbbgZSZmm6ckX+p0BZmobQdtd+CtauQpnJsbdgu/hsj+sBGgg2YC7YcP/P8gAj5kmIKkM3ujIBBBuwF2zVgGkFE+J+igWC9dh30U5mum4k+btGyRFBDbLMXfJmIaStVk1Q0yQWy1KeE9oLrwofBbudJPkPCLZDL9gwxPKqYHaAYDvYCHZwW5EhINgGFoKzTV/10aHoF/wlOMEEWXRSCg5Jz+8rQQyy6LbYgWBXBPQFcLIsQLB7+P6Gv/FQ3WftASDYiP+CXa37G9I6uLLr4WBfjYdw3UWbp7US7PAPh4edcR4SzLZZx5mazIuMgulEg2CHZF+LdpCp2agqE6Z5Jc8cBDvEVrDz67Cxg84IVTdg2ibsqCqhIHSCjdnohboaxUWOUAtWNV3Dhdl15kTw3/pDdg025JG56LrNyyH8X8D53PhORvBdMRffPrIn6KfsuCkheMHQRcuYqdAIcuIqaxrv/wJAcArFpW5hwnYZyrUeDtp40AQi2GjYdGrjXg8I5l+wK0EgOFDBuuVjK8E0hvSHGy8MccP3UbRh1cksWHUsvWCz4+PblH396gp9Jk78gmA1wWy6s0W37EhVKAjWw49gp5dLzfE0fuPhnBvBmWjyy646QfYjTf2CYBd4LTh9HMnxINgLTPZFZ+mh6Tbc+C2Y+0VJc/i5mySfb8LTrm7yBMcSBlrC/30jc/gRbIG1Bn+7WBCsh41gu3kPi/yJAcF6vBRMvcLFABCsg0iwTpIyFVZCeBGMwqg34G82aDR1ytY6O7XvzbOIwxyHAYF++UytqdNccLYsgCwE+uUzM8GdJILtpjjhvFR6RjhbsA32o934tfxgv12oPt1qp53O92PZCo5h1877NIma7ILjZZh7wdQ+oIvWEPQ8ONvpZm0kbn75+Pey9gfEzglT3AseV16xr6J8nCGc9B9E2+oDwW5xLXjhkfJFsxatPrJQH8FEcAwvmoxxLbh+rPRyUZ0+gkkXDbjFteDWPtJLz6Q+gs0gC3CJa8GPbh5XnFM8drNBZ0DzYECLa8FF5Ulh4tmyukgf4VSwbpkS2rg7GEyT8oeOGppvDHYoWLcQDaNol3C3ktWpNQyCXcJK8MRSfQi0YC5gJXjec/Lb774o8e56ZzkZBTOoXnzxrou+8geukit9NIvKoNBumnMLr4KZd81h3fbqFiaCRyy7dYwhEARzgWvBTQXokrZNT7ZP1UeAYC5wLRgXopcWC4OsSn2E+2sw29FVPP0yEVx7DkJ9WvQRLgUDbHAveP6cmpEIDWzSR4BgLnAteKPAJIRmvaKPAMFcwGqa1L2HPgQEcwGv82CAESA44oDgiAOCIw4IjjihERzLZSgG8CbYasU4pivJ7gmJ4LjeKnAPZ4Kt/k8NCHYKCI44nAm2uwa7q05c4U0wwBgQHHFAcMQBwREHBEccEBxxQHDEAcERBwRHHBAccbwTPOGdSpGPW5PUHKdP0nbMl2KOtflSTGs7fZq2/6s0450zvBKc5r4vUScpeC77MXp+Mpk+zcv0SabdRJ9mcy51knPL6ItZ+WX6NCwAwSBYDwgGwQZAMAg2AIJZAIIjLngl/Tys6yb6Yn40kT7NC/RJvn0DfZrnulAn+fLv6Yv5w1D6NCwo8CdNPv1ZdFJMrskj/TwoxkkaJ8UAAAAAAAAAAAAAAEBE17L3WvfKz6+cvb99//lUSYa+ePTgcoLFi7Ka9prS9HFFa5N1hn/fZJtEW0vCYhAanCRZTNWkIToDmiSkZ0BdHcIzwIKiFaP7Xdd2durDlMS3+40eTJXk1fLThlbPz17O+LN6Xpi4JvV+9Za+444a/wWbTRJNkaTFIPTMNhLB6jRkZ0CThPQMqKtDeAaY8c6Vqdc35lAnaR4vVPceoiR9D0yRXvNbhDTl5TRJNEUSp5n29BLC2yFyGvIzICchPgNKdSjOABP6H/+K9Fpwcsk/Dv6+kCYJelj4+32f5AbCbYc+WZp6NxQXI7SogiaJpkjSNN2rhpAJVtIQnwFVMaRnQFUd4jPAhoKX0ze9zsTbSgbuvYUmCTqjCuMVJKUUDbz68AXSu1E4B6FZ+2iSaIokTXPnMkQmWElDfAZUxZCeAVV1iM8AE/I3PJa+EToAX47Q3F00SfLf/mnhwFd/TlbSyvulF5q/33QSdZGkaYZVFRIKVtIQnwElCekZUFfH1xact+5p+dZaw1SiX0+VZCjuLlR1O1lRq1JtMD85VrhqkV2B0kk0tSRMszCZSBxtr6ZKQ3oGVElIz4C6OjRnwC25a7d8rrBQaBzzhMvIXVv7nLF7GU2Sgsb/zh+w/d6sxRTdOKTXjORlqWLKX+h5YXPWMaQ6iVwkRZpu/fv3L91SQlc1sjOgTkJ6BuTqkJ8BJgyWHptyE0LPlQrXudXNiXuy3pDWJPnGzqOHHjg9azHdn/04uedqlEpT9GiyPvssUJ1ELpKmGAGSLlqThuwMaJIQngG5OuRnAAAAAAAAAAAAAAAAAAAAAAAAAAAAAAAAAAAAIACqR1sFLb8j/Tkx3Mf6AFTsm4nQhKbv2ByRsrn0WeHHAenHVWh2XylGFFwnxoJgfhEET2lSPz0tT39ESvDXm3PRgOqE8APLD+YFwSFg38wrGi9DqOSxQ9U3C6aW7nkbJRa/dmBNnhyWEty19Tx05Z9fEX68KwUN29m8sfwOdO+J+urZKLHg7eY1hr8MgAf2PXV4PEI5ry4vHLR/MkpsKshBiXX5+TuvlsPSF9yXb0Zl3/uN8ONPouDc/Utyv9Umt+At/ftVXR3sLwKYs+/I9gKERgodMLphDUpMEIIS30DoN8vlsLTgXz2J9g6dKPy4VhQ85p9C5CZZsJDs9uWB/h6ABfu+v+OZfDS1raqq6v31KDECpa6oP18lh6UFX9rQqx4Vf9SrY4goeNobQtAK9TVYSAFwyL6Zp7++Lm9UIkf6JI2W0royYWnB3Y4vfhyh3YtrpaAxdcLLY4LgGhDMN8Iouvebj+RX3NUjd9gYjeAu6bDMPPjVj24UGu1HDyHpGnzgCjQ0KQiuvAqBYJ4R58H93vrLgAcTjTsmaASjklRYRvDt+N8QuhJfh6RGPbzitU0PC4KvqG2cD4IBAAAAAAAAAAAAAAAAAAAAAAAAAAAAAAAAAKDjXx65BHjMJlVCAAAAAElFTkSuQmCC"
     },
     "metadata": {},
     "output_type": "display_data"
    }
   ],
   "source": [
    "# Visualize results (noise is shown in black) using a simple plot\n",
    "plot(seeds.sub$width, seeds.sub$length, col = clusters_assignments1$cluster, pch = 16, main = \"Scatterplot Displaying Clusters\", xlab = \"Kernel Width\", ylab = \"Kernel Length\")\n",
    "\n",
    "legend(x = 2.6, y = 6.75, legend = levels(clusters_assignments1$cluster), col = c(1:5), pch = 16, title = \"Clusters\")\n"
   ]
  },
  {
   "cell_type": "markdown",
   "metadata": {},
   "source": [
    "### Thank you for completing this exercise!\n",
    "\n",
    "Notebook created by: Dominique Warren"
   ]
  },
  {
   "cell_type": "markdown",
   "metadata": {},
   "source": [
    "### References:\n",
    "\n",
    "https://en.wikipedia.org/wiki/DBSCAN <br>\n",
    "https://cran.r-project.org/web/packages/dbscan/dbscan.pdf <br>\n",
    "https://www.aaai.org/Papers/KDD/1996/KDD96-037.pdf <br>\n",
    "http://www.cse.buffalo.edu/~jing/cse601/fa12/materials/clustering_density.pdf <br>"
   ]
  },
  {
   "cell_type": "markdown",
   "metadata": {},
   "source": [
    "<hr>\n",
    "Copyright &copy; 2016 [Big Data University](https://bigdatauniversity.com/?utm_source=bducopyrightlink&utm_medium=dswb&utm_campaign=bdu). This notebook and its source code are released under the terms of the [MIT License](https://bigdatauniversity.com/mit-license/)."
   ]
  }
 ],
 "metadata": {
  "kernelspec": {
   "display_name": "R",
   "language": "",
   "name": "ir"
  },
  "language_info": {
   "codemirror_mode": "r",
   "file_extension": ".r",
   "mimetype": "text/x-r-source",
   "name": "R",
   "pygments_lexer": "r"
  },
  "widgets": {
   "state": {},
   "version": "1.1.2"
  }
 },
 "nbformat": 4,
 "nbformat_minor": 0
}
